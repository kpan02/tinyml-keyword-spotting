{
  "cells": [
    {
      "cell_type": "markdown",
      "metadata": {
        "id": "view-in-github",
        "colab_type": "text"
      },
      "source": [
        "<a href=\"https://colab.research.google.com/github/ML-HW-SYS/a2-kpan02/blob/main/5_quantization.ipynb\" target=\"_parent\"><img src=\"https://colab.research.google.com/assets/colab-badge.svg\" alt=\"Open In Colab\"/></a>"
      ]
    },
    {
      "cell_type": "markdown",
      "metadata": {
        "id": "DLNHtJrAqKWo"
      },
      "source": [
        "# **5. Quantization**\n"
      ]
    },
    {
      "cell_type": "markdown",
      "metadata": {
        "id": "h5kS114ooq-0"
      },
      "source": [
        "## 5.0 Setup Capabilities"
      ]
    },
    {
      "cell_type": "code",
      "execution_count": 1,
      "metadata": {
        "id": "zjOhFCIkxVfL",
        "outputId": "eb123a5d-f1bd-44d3-9ab3-1fb3c5779bfb",
        "colab": {
          "base_uri": "https://localhost:8080/"
        }
      },
      "outputs": [
        {
          "output_type": "stream",
          "name": "stdout",
          "text": [
            "Mounted at /content/gdrive\n"
          ]
        }
      ],
      "source": [
        "# Mount google drive\n",
        "from google.colab import drive\n",
        "drive.mount('/content/gdrive')"
      ]
    },
    {
      "cell_type": "code",
      "execution_count": 2,
      "metadata": {
        "id": "hoEUDK6KxVfM"
      },
      "outputs": [],
      "source": [
        "# Make sure your token is stored in a txt file at the location below.\n",
        "# This way there is no risk that you will push it to your repo\n",
        "# Never share your token with anyone, it is basically your github password!\n",
        "with open('/content/gdrive/MyDrive/ece5545/token.txt') as f:\n",
        "    token = f.readline().strip()\n",
        "# Use another file to store your github username\n",
        "with open('/content/gdrive/MyDrive/ece5545/git_username.txt') as f:\n",
        "    handle = f.readline().strip()"
      ]
    },
    {
      "cell_type": "code",
      "execution_count": 3,
      "metadata": {
        "id": "lXP6DjaqxVfM",
        "outputId": "fa3f1d10-4f82-4f52-95b0-93f86ed522a5",
        "colab": {
          "base_uri": "https://localhost:8080/"
        }
      },
      "outputs": [
        {
          "output_type": "stream",
          "name": "stdout",
          "text": [
            "mkdir: cannot create directory ‘/content/gdrive/MyDrive/ece5545’: File exists\n",
            "/content/gdrive/MyDrive/ece5545\n",
            "fatal: destination path 'a2-kpan02' already exists and is not an empty directory.\n",
            "/content/gdrive/MyDrive/ece5545/a2-kpan02\n",
            "M\tsrc/size_estimate.py\n",
            "Already on 'main'\n",
            "Your branch is up to date with 'origin/main'.\n",
            "remote: Enumerating objects: 3, done.\u001b[K\n",
            "remote: Counting objects: 100% (2/2), done.\u001b[K\n",
            "remote: Compressing objects: 100% (2/2), done.\u001b[K\n",
            "remote: Total 3 (delta 0), reused 0 (delta 0), pack-reused 1 (from 1)\u001b[K\n",
            "Unpacking objects: 100% (3/3), 38.48 KiB | 1.42 MiB/s, done.\n",
            "From https://github.com/ML-HW-SYS/a2-kpan02\n",
            "   0003fe7..e191e00  main       -> origin/main\n",
            "Updating 0003fe7..e191e00\n",
            "Fast-forward\n",
            " 4_model_conversion.ipynb | 2348 \u001b[32m++++++++++++++++++++++++++++++++++++++++++++++++++++++++++++++++\u001b[m\u001b[31m--\u001b[m\n",
            " 1 file changed, 2289 insertions(+), 59 deletions(-)\n",
            "/content/gdrive/MyDrive/ece5545\n"
          ]
        }
      ],
      "source": [
        "# Clone your github repo\n",
        "YOUR_TOKEN = token\n",
        "YOUR_HANDLE = handle\n",
        "BRANCH = \"main\"\n",
        "\n",
        "%mkdir /content/gdrive/MyDrive/ece5545\n",
        "%cd /content/gdrive/MyDrive/ece5545\n",
        "!git clone https://{YOUR_TOKEN}@github.com/ML-HW-SYS/a2-{YOUR_HANDLE}.git\n",
        "%cd /content/gdrive/MyDrive/ece5545/a2-{YOUR_HANDLE}\n",
        "!git checkout {BRANCH}\n",
        "!git pull\n",
        "%cd /content/gdrive/MyDrive/ece5545\n",
        "\n",
        "PROJECT_ROOT = f\"/content/gdrive/MyDrive/ece5545/a2-{YOUR_HANDLE}\""
      ]
    },
    {
      "cell_type": "code",
      "execution_count": 4,
      "metadata": {
        "id": "6eDWK1EVxVfN"
      },
      "outputs": [],
      "source": [
        "# This extension reloads all imports before running each cell\n",
        "%load_ext autoreload\n",
        "%autoreload 2"
      ]
    },
    {
      "cell_type": "markdown",
      "metadata": {
        "id": "4w6cL9l3xVfO"
      },
      "source": [
        "Please verify the cell below prints out the github repository."
      ]
    },
    {
      "cell_type": "code",
      "execution_count": 5,
      "metadata": {
        "id": "TQSeJ7fExVfP",
        "outputId": "473dbaf2-5949-4cbd-cb36-be59155193e4",
        "colab": {
          "base_uri": "https://localhost:8080/"
        }
      },
      "outputs": [
        {
          "output_type": "stream",
          "name": "stdout",
          "text": [
            "1_audio_preprocessing.ipynb\t     5_quantization.ipynb\t      README.md\n",
            "2_size_estimator_and_profiler.ipynb  6_pruning.ipynb\t\t      src\n",
            "3_training_and_analysis.ipynb\t     arduino_nano_33_ble_tutorial.md  tests\n",
            "4_model_conversion.ipynb\t     images\n"
          ]
        }
      ],
      "source": [
        "!ls '{PROJECT_ROOT}'"
      ]
    },
    {
      "cell_type": "markdown",
      "metadata": {
        "id": "MM5gV8CNqd-s"
      },
      "source": [
        "### Install required packages"
      ]
    },
    {
      "cell_type": "code",
      "execution_count": 6,
      "metadata": {
        "id": "NLE4Xmakoq-4",
        "outputId": "52a3cb29-1a54-4283-b836-7e230fe84525",
        "colab": {
          "base_uri": "https://localhost:8080/"
        }
      },
      "outputs": [
        {
          "output_type": "stream",
          "name": "stdout",
          "text": [
            "Requirement already satisfied: tqdm in /usr/local/lib/python3.11/dist-packages (4.67.1)\n",
            "Requirement already satisfied: torchaudio in /usr/local/lib/python3.11/dist-packages (2.5.1+cu124)\n",
            "Requirement already satisfied: torch==2.5.1 in /usr/local/lib/python3.11/dist-packages (from torchaudio) (2.5.1+cu124)\n",
            "Requirement already satisfied: filelock in /usr/local/lib/python3.11/dist-packages (from torch==2.5.1->torchaudio) (3.17.0)\n",
            "Requirement already satisfied: typing-extensions>=4.8.0 in /usr/local/lib/python3.11/dist-packages (from torch==2.5.1->torchaudio) (4.12.2)\n",
            "Requirement already satisfied: networkx in /usr/local/lib/python3.11/dist-packages (from torch==2.5.1->torchaudio) (3.4.2)\n",
            "Requirement already satisfied: jinja2 in /usr/local/lib/python3.11/dist-packages (from torch==2.5.1->torchaudio) (3.1.6)\n",
            "Requirement already satisfied: fsspec in /usr/local/lib/python3.11/dist-packages (from torch==2.5.1->torchaudio) (2024.10.0)\n",
            "Collecting nvidia-cuda-nvrtc-cu12==12.4.127 (from torch==2.5.1->torchaudio)\n",
            "  Downloading nvidia_cuda_nvrtc_cu12-12.4.127-py3-none-manylinux2014_x86_64.whl.metadata (1.5 kB)\n",
            "Collecting nvidia-cuda-runtime-cu12==12.4.127 (from torch==2.5.1->torchaudio)\n",
            "  Downloading nvidia_cuda_runtime_cu12-12.4.127-py3-none-manylinux2014_x86_64.whl.metadata (1.5 kB)\n",
            "Collecting nvidia-cuda-cupti-cu12==12.4.127 (from torch==2.5.1->torchaudio)\n",
            "  Downloading nvidia_cuda_cupti_cu12-12.4.127-py3-none-manylinux2014_x86_64.whl.metadata (1.6 kB)\n",
            "Collecting nvidia-cudnn-cu12==9.1.0.70 (from torch==2.5.1->torchaudio)\n",
            "  Downloading nvidia_cudnn_cu12-9.1.0.70-py3-none-manylinux2014_x86_64.whl.metadata (1.6 kB)\n",
            "Collecting nvidia-cublas-cu12==12.4.5.8 (from torch==2.5.1->torchaudio)\n",
            "  Downloading nvidia_cublas_cu12-12.4.5.8-py3-none-manylinux2014_x86_64.whl.metadata (1.5 kB)\n",
            "Collecting nvidia-cufft-cu12==11.2.1.3 (from torch==2.5.1->torchaudio)\n",
            "  Downloading nvidia_cufft_cu12-11.2.1.3-py3-none-manylinux2014_x86_64.whl.metadata (1.5 kB)\n",
            "Collecting nvidia-curand-cu12==10.3.5.147 (from torch==2.5.1->torchaudio)\n",
            "  Downloading nvidia_curand_cu12-10.3.5.147-py3-none-manylinux2014_x86_64.whl.metadata (1.5 kB)\n",
            "Collecting nvidia-cusolver-cu12==11.6.1.9 (from torch==2.5.1->torchaudio)\n",
            "  Downloading nvidia_cusolver_cu12-11.6.1.9-py3-none-manylinux2014_x86_64.whl.metadata (1.6 kB)\n",
            "Collecting nvidia-cusparse-cu12==12.3.1.170 (from torch==2.5.1->torchaudio)\n",
            "  Downloading nvidia_cusparse_cu12-12.3.1.170-py3-none-manylinux2014_x86_64.whl.metadata (1.6 kB)\n",
            "Requirement already satisfied: nvidia-nccl-cu12==2.21.5 in /usr/local/lib/python3.11/dist-packages (from torch==2.5.1->torchaudio) (2.21.5)\n",
            "Requirement already satisfied: nvidia-nvtx-cu12==12.4.127 in /usr/local/lib/python3.11/dist-packages (from torch==2.5.1->torchaudio) (12.4.127)\n",
            "Collecting nvidia-nvjitlink-cu12==12.4.127 (from torch==2.5.1->torchaudio)\n",
            "  Downloading nvidia_nvjitlink_cu12-12.4.127-py3-none-manylinux2014_x86_64.whl.metadata (1.5 kB)\n",
            "Requirement already satisfied: triton==3.1.0 in /usr/local/lib/python3.11/dist-packages (from torch==2.5.1->torchaudio) (3.1.0)\n",
            "Requirement already satisfied: sympy==1.13.1 in /usr/local/lib/python3.11/dist-packages (from torch==2.5.1->torchaudio) (1.13.1)\n",
            "Requirement already satisfied: mpmath<1.4,>=1.1.0 in /usr/local/lib/python3.11/dist-packages (from sympy==1.13.1->torch==2.5.1->torchaudio) (1.3.0)\n",
            "Requirement already satisfied: MarkupSafe>=2.0 in /usr/local/lib/python3.11/dist-packages (from jinja2->torch==2.5.1->torchaudio) (3.0.2)\n",
            "Downloading nvidia_cublas_cu12-12.4.5.8-py3-none-manylinux2014_x86_64.whl (363.4 MB)\n",
            "\u001b[2K   \u001b[90m━━━━━━━━━━━━━━━━━━━━━━━━━━━━━━━━━━━━━━━━\u001b[0m \u001b[32m363.4/363.4 MB\u001b[0m \u001b[31m2.8 MB/s\u001b[0m eta \u001b[36m0:00:00\u001b[0m\n",
            "\u001b[?25hDownloading nvidia_cuda_cupti_cu12-12.4.127-py3-none-manylinux2014_x86_64.whl (13.8 MB)\n",
            "\u001b[2K   \u001b[90m━━━━━━━━━━━━━━━━━━━━━━━━━━━━━━━━━━━━━━━━\u001b[0m \u001b[32m13.8/13.8 MB\u001b[0m \u001b[31m112.9 MB/s\u001b[0m eta \u001b[36m0:00:00\u001b[0m\n",
            "\u001b[?25hDownloading nvidia_cuda_nvrtc_cu12-12.4.127-py3-none-manylinux2014_x86_64.whl (24.6 MB)\n",
            "\u001b[2K   \u001b[90m━━━━━━━━━━━━━━━━━━━━━━━━━━━━━━━━━━━━━━━━\u001b[0m \u001b[32m24.6/24.6 MB\u001b[0m \u001b[31m88.5 MB/s\u001b[0m eta \u001b[36m0:00:00\u001b[0m\n",
            "\u001b[?25hDownloading nvidia_cuda_runtime_cu12-12.4.127-py3-none-manylinux2014_x86_64.whl (883 kB)\n",
            "\u001b[2K   \u001b[90m━━━━━━━━━━━━━━━━━━━━━━━━━━━━━━━━━━━━━━━━\u001b[0m \u001b[32m883.7/883.7 kB\u001b[0m \u001b[31m53.5 MB/s\u001b[0m eta \u001b[36m0:00:00\u001b[0m\n",
            "\u001b[?25hDownloading nvidia_cudnn_cu12-9.1.0.70-py3-none-manylinux2014_x86_64.whl (664.8 MB)\n",
            "\u001b[2K   \u001b[90m━━━━━━━━━━━━━━━━━━━━━━━━━━━━━━━━━━━━━━━━\u001b[0m \u001b[32m664.8/664.8 MB\u001b[0m \u001b[31m1.6 MB/s\u001b[0m eta \u001b[36m0:00:00\u001b[0m\n",
            "\u001b[?25hDownloading nvidia_cufft_cu12-11.2.1.3-py3-none-manylinux2014_x86_64.whl (211.5 MB)\n",
            "\u001b[2K   \u001b[90m━━━━━━━━━━━━━━━━━━━━━━━━━━━━━━━━━━━━━━━━\u001b[0m \u001b[32m211.5/211.5 MB\u001b[0m \u001b[31m10.6 MB/s\u001b[0m eta \u001b[36m0:00:00\u001b[0m\n",
            "\u001b[?25hDownloading nvidia_curand_cu12-10.3.5.147-py3-none-manylinux2014_x86_64.whl (56.3 MB)\n",
            "\u001b[2K   \u001b[90m━━━━━━━━━━━━━━━━━━━━━━━━━━━━━━━━━━━━━━━━\u001b[0m \u001b[32m56.3/56.3 MB\u001b[0m \u001b[31m39.2 MB/s\u001b[0m eta \u001b[36m0:00:00\u001b[0m\n",
            "\u001b[?25hDownloading nvidia_cusolver_cu12-11.6.1.9-py3-none-manylinux2014_x86_64.whl (127.9 MB)\n",
            "\u001b[2K   \u001b[90m━━━━━━━━━━━━━━━━━━━━━━━━━━━━━━━━━━━━━━━━\u001b[0m \u001b[32m127.9/127.9 MB\u001b[0m \u001b[31m17.3 MB/s\u001b[0m eta \u001b[36m0:00:00\u001b[0m\n",
            "\u001b[?25hDownloading nvidia_cusparse_cu12-12.3.1.170-py3-none-manylinux2014_x86_64.whl (207.5 MB)\n",
            "\u001b[2K   \u001b[90m━━━━━━━━━━━━━━━━━━━━━━━━━━━━━━━━━━━━━━━━\u001b[0m \u001b[32m207.5/207.5 MB\u001b[0m \u001b[31m4.9 MB/s\u001b[0m eta \u001b[36m0:00:00\u001b[0m\n",
            "\u001b[?25hDownloading nvidia_nvjitlink_cu12-12.4.127-py3-none-manylinux2014_x86_64.whl (21.1 MB)\n",
            "\u001b[2K   \u001b[90m━━━━━━━━━━━━━━━━━━━━━━━━━━━━━━━━━━━━━━━━\u001b[0m \u001b[32m21.1/21.1 MB\u001b[0m \u001b[31m92.1 MB/s\u001b[0m eta \u001b[36m0:00:00\u001b[0m\n",
            "\u001b[?25hInstalling collected packages: nvidia-nvjitlink-cu12, nvidia-curand-cu12, nvidia-cufft-cu12, nvidia-cuda-runtime-cu12, nvidia-cuda-nvrtc-cu12, nvidia-cuda-cupti-cu12, nvidia-cublas-cu12, nvidia-cusparse-cu12, nvidia-cudnn-cu12, nvidia-cusolver-cu12\n",
            "  Attempting uninstall: nvidia-nvjitlink-cu12\n",
            "    Found existing installation: nvidia-nvjitlink-cu12 12.5.82\n",
            "    Uninstalling nvidia-nvjitlink-cu12-12.5.82:\n",
            "      Successfully uninstalled nvidia-nvjitlink-cu12-12.5.82\n",
            "  Attempting uninstall: nvidia-curand-cu12\n",
            "    Found existing installation: nvidia-curand-cu12 10.3.6.82\n",
            "    Uninstalling nvidia-curand-cu12-10.3.6.82:\n",
            "      Successfully uninstalled nvidia-curand-cu12-10.3.6.82\n",
            "  Attempting uninstall: nvidia-cufft-cu12\n",
            "    Found existing installation: nvidia-cufft-cu12 11.2.3.61\n",
            "    Uninstalling nvidia-cufft-cu12-11.2.3.61:\n",
            "      Successfully uninstalled nvidia-cufft-cu12-11.2.3.61\n",
            "  Attempting uninstall: nvidia-cuda-runtime-cu12\n",
            "    Found existing installation: nvidia-cuda-runtime-cu12 12.5.82\n",
            "    Uninstalling nvidia-cuda-runtime-cu12-12.5.82:\n",
            "      Successfully uninstalled nvidia-cuda-runtime-cu12-12.5.82\n",
            "  Attempting uninstall: nvidia-cuda-nvrtc-cu12\n",
            "    Found existing installation: nvidia-cuda-nvrtc-cu12 12.5.82\n",
            "    Uninstalling nvidia-cuda-nvrtc-cu12-12.5.82:\n",
            "      Successfully uninstalled nvidia-cuda-nvrtc-cu12-12.5.82\n",
            "  Attempting uninstall: nvidia-cuda-cupti-cu12\n",
            "    Found existing installation: nvidia-cuda-cupti-cu12 12.5.82\n",
            "    Uninstalling nvidia-cuda-cupti-cu12-12.5.82:\n",
            "      Successfully uninstalled nvidia-cuda-cupti-cu12-12.5.82\n",
            "  Attempting uninstall: nvidia-cublas-cu12\n",
            "    Found existing installation: nvidia-cublas-cu12 12.5.3.2\n",
            "    Uninstalling nvidia-cublas-cu12-12.5.3.2:\n",
            "      Successfully uninstalled nvidia-cublas-cu12-12.5.3.2\n",
            "  Attempting uninstall: nvidia-cusparse-cu12\n",
            "    Found existing installation: nvidia-cusparse-cu12 12.5.1.3\n",
            "    Uninstalling nvidia-cusparse-cu12-12.5.1.3:\n",
            "      Successfully uninstalled nvidia-cusparse-cu12-12.5.1.3\n",
            "  Attempting uninstall: nvidia-cudnn-cu12\n",
            "    Found existing installation: nvidia-cudnn-cu12 9.3.0.75\n",
            "    Uninstalling nvidia-cudnn-cu12-9.3.0.75:\n",
            "      Successfully uninstalled nvidia-cudnn-cu12-9.3.0.75\n",
            "  Attempting uninstall: nvidia-cusolver-cu12\n",
            "    Found existing installation: nvidia-cusolver-cu12 11.6.3.83\n",
            "    Uninstalling nvidia-cusolver-cu12-11.6.3.83:\n",
            "      Successfully uninstalled nvidia-cusolver-cu12-11.6.3.83\n",
            "Successfully installed nvidia-cublas-cu12-12.4.5.8 nvidia-cuda-cupti-cu12-12.4.127 nvidia-cuda-nvrtc-cu12-12.4.127 nvidia-cuda-runtime-cu12-12.4.127 nvidia-cudnn-cu12-9.1.0.70 nvidia-cufft-cu12-11.2.1.3 nvidia-curand-cu12-10.3.5.147 nvidia-cusolver-cu12-11.6.1.9 nvidia-cusparse-cu12-12.3.1.170 nvidia-nvjitlink-cu12-12.4.127\n"
          ]
        }
      ],
      "source": [
        "# Install libraries\n",
        "!pip install tqdm\n",
        "!pip install torchaudio"
      ]
    },
    {
      "cell_type": "markdown",
      "metadata": {
        "id": "55zgRQWVqu6n"
      },
      "source": [
        "### Import code dependencies"
      ]
    },
    {
      "cell_type": "code",
      "execution_count": 7,
      "metadata": {
        "id": "0pk0tnhRoq-5",
        "outputId": "3d5f53bd-c3d7-4538-951a-6db4f16058f6",
        "colab": {
          "base_uri": "https://localhost:8080/"
        }
      },
      "outputs": [
        {
          "output_type": "stream",
          "name": "stdout",
          "text": [
            "Model folders are created, \n",
            "PyTorch models will be saved in /content/gdrive/MyDrive/ece5545/models/torch_models, \n",
            "ONNX models will be saved in /content/gdrive/MyDrive/ece5545/models/onnx_models, \n",
            "TensorFlow Saved Models will be saved in /content/gdrive/MyDrive/ece5545/models/tf_models, \n",
            "TensorFlow Lite models will be saved in /content/gdrive/MyDrive/ece5545/models/tflite_models, \n",
            "TensorFlow Lite Micro models will be saved in /content/gdrive/MyDrive/ece5545/models/micro_models.\n"
          ]
        }
      ],
      "source": [
        "# Import libraries\n",
        "import torch\n",
        "import torch.nn as nn\n",
        "import torch.nn.functional as F\n",
        "import torch.optim as optim\n",
        "\n",
        "import matplotlib.pyplot as plt\n",
        "from tqdm.notebook import tqdm\n",
        "import numpy as np\n",
        "import copy\n",
        "import os\n",
        "\n",
        "import sys\n",
        "\n",
        "# Adding assignment 2 to the system path\n",
        "# -- make sure this matches your git directory\n",
        "sys.path.insert(0, PROJECT_ROOT)\n",
        "\n",
        "# Import data_proc to use data processing functions\n",
        "import src.data_proc as data_proc\n",
        "\n",
        "# Import constants to use constants defined for training\n",
        "from src.constants import *\n",
        "\n",
        "# Set random seed\n",
        "# Make sure the shuffling and picking is deterministic\n",
        "# Note that different value of random_seed may change rate of variation in loss/accuracy during training\n",
        "# Using the same random seed value every time you rerun the notebook will\n",
        "# reproduce the training and testing results\n",
        "random_seed = RANDOM_SEED\n",
        "torch.manual_seed(random_seed)\n",
        "torch.cuda.manual_seed(random_seed)\n",
        "np.random.seed(random_seed)"
      ]
    },
    {
      "cell_type": "markdown",
      "metadata": {
        "id": "qPNyurTpoq_C"
      },
      "source": [
        "## 5.1 Define Quantization Functions\n",
        "\n",
        "There are some test cases in the `tests` folder to verify basic functionality of your implemented functions--these will be run automatically every time you check in your code. Additionally, we've left some simple tests in this notebook as well for you to try things out.\n",
        "\n"
      ]
    },
    {
      "cell_type": "markdown",
      "metadata": {
        "id": "hTaCRrjeJgBR"
      },
      "source": [
        "#### TODO 0: Implement the backward pass of `ste_round` function in `src/quant.py`"
      ]
    },
    {
      "cell_type": "code",
      "execution_count": 28,
      "metadata": {
        "id": "VQy4ffsVPc8o",
        "outputId": "7e31e6c2-8596-47ae-d6c8-f6101887662c",
        "colab": {
          "base_uri": "https://localhost:8080/"
        }
      },
      "outputs": [
        {
          "output_type": "stream",
          "name": "stdout",
          "text": [
            "Forward pass test passed!\n",
            "Backward pass test passed!\n",
            "Complex backward pass test passed!\n"
          ]
        }
      ],
      "source": [
        "# add a test if you like. There's already one under tests/\n",
        "from src.quant import ste_round\n",
        "ste_round_f = ste_round.apply\n",
        "\n",
        "\n",
        "def test_ste_round():\n",
        "    x = torch.tensor([1.4, 2.6, 3.3, 4.7], requires_grad=True, dtype=torch.float32)\n",
        "    y = ste_round.apply(x)\n",
        "    expected_y = torch.tensor([1.0, 3.0, 3.0, 5.0], dtype=torch.float32)\n",
        "\n",
        "    assert torch.allclose(y, expected_y), f\"Forward pass failed: {y} != {expected_y}\"\n",
        "    print(\"Forward pass test passed!\")\n",
        "\n",
        "    loss = y.sum()\n",
        "    loss.backward()\n",
        "\n",
        "    expected_grad = torch.ones_like(x)\n",
        "    assert torch.allclose(x.grad, expected_grad), f\"Backward pass failed: {x.grad} != {expected_grad}\"\n",
        "    print(\"Backward pass test passed!\")\n",
        "\n",
        "    x = torch.tensor([1.4, 2.6, 3.3, 4.7], requires_grad=True, dtype=torch.float32)\n",
        "    y = ste_round.apply(x)\n",
        "\n",
        "    loss = (y * torch.tensor([0.5, 1.0, 1.5, 2.0])).sum()\n",
        "    loss.backward()\n",
        "\n",
        "    expected_grad = torch.tensor([0.5, 1.0, 1.5, 2.0])\n",
        "    assert torch.allclose(x.grad, expected_grad), f\"Complex backward pass failed: {x.grad} != {expected_grad}\"\n",
        "    print(\"Complex backward pass test passed!\")\n",
        "\n",
        "test_ste_round()"
      ]
    },
    {
      "cell_type": "markdown",
      "metadata": {
        "id": "zOvGVC1CxVfR"
      },
      "source": [
        "#### TODO 1: Implement the `linear_quantize` function in `src/quant.py`\n"
      ]
    },
    {
      "cell_type": "code",
      "execution_count": 29,
      "metadata": {
        "id": "EXUIpaEMoq_C",
        "outputId": "c026bbe8-ccbd-4f7f-d9c0-7516357b41f7",
        "colab": {
          "base_uri": "https://localhost:8080/"
        }
      },
      "outputs": [
        {
          "output_type": "stream",
          "name": "stdout",
          "text": [
            "tensor([2., 0., 0., 1.])\n"
          ]
        }
      ],
      "source": [
        "from src.quant import linear_quantize\n",
        "\n",
        "# Mini test case for linear_quantize\n",
        "with torch.no_grad():\n",
        "    x = torch.tensor([2, -0.5, 0., 1.])\n",
        "    scale = 1\n",
        "    zero = 0\n",
        "    y = linear_quantize(x, scale, zero)\n",
        "    print(y)"
      ]
    },
    {
      "cell_type": "markdown",
      "metadata": {
        "id": "bvZ9zUycxVfR"
      },
      "source": [
        "#### TODO 2: Implement the `SymmetricQuantFunction` forward function in `src/quant.py`\n"
      ]
    },
    {
      "cell_type": "code",
      "execution_count": 30,
      "metadata": {
        "id": "RxiSaE_dxVfR",
        "outputId": "472e99ae-0e84-4756-affa-eb4ea19aba21",
        "colab": {
          "base_uri": "https://localhost:8080/"
        }
      },
      "outputs": [
        {
          "output_type": "stream",
          "name": "stdout",
          "text": [
            "tensor([1., 0., 0., 1.], grad_fn=<SymmetricQuantFunctionBackward>)\n",
            "tensor([2., 0., 0., 2.])\n"
          ]
        }
      ],
      "source": [
        "from src.quant import SymmetricQuantFunction\n",
        "\n",
        "quant_f = SymmetricQuantFunction.apply\n",
        "\n",
        "x = torch.tensor([2, -0.5, 0., 1.])\n",
        "x.requires_grad = True\n",
        "bw = 2\n",
        "y = quant_f(x, bw, scale, zero)\n",
        "(y ** 2).sum().backward()\n",
        "\n",
        "print(y)\n",
        "print(x.grad)"
      ]
    },
    {
      "cell_type": "markdown",
      "metadata": {
        "id": "7M_CmQ5-xVfS"
      },
      "source": [
        "#### TODO 3: Implement the `AsymmetricQuantFunction` forward function in `src/quant.py`"
      ]
    },
    {
      "cell_type": "code",
      "execution_count": 31,
      "metadata": {
        "id": "XQBP2WWtxVfS",
        "outputId": "f9b8dcf9-d9f6-4694-8429-93723563925e",
        "colab": {
          "base_uri": "https://localhost:8080/"
        }
      },
      "outputs": [
        {
          "output_type": "stream",
          "name": "stdout",
          "text": [
            "tensor([2., 0., 0., 1.], grad_fn=<AsymmetricQuantFunctionBackward>)\n",
            "tensor([4., 0., 0., 2.])\n"
          ]
        }
      ],
      "source": [
        "from src.quant import AsymmetricQuantFunction\n",
        "\n",
        "quant_f = AsymmetricQuantFunction.apply\n",
        "\n",
        "x = torch.tensor([2, -0.5, 0., 1.])\n",
        "x.requires_grad = True\n",
        "bw = 2\n",
        "y = quant_f(x, bw, scale, zero)\n",
        "(y ** 2).sum().backward()\n",
        "\n",
        "print(y)\n",
        "print(x.grad)"
      ]
    },
    {
      "cell_type": "markdown",
      "metadata": {
        "id": "EClG-iStxVfS"
      },
      "source": [
        "#### TODO 4: Finish the Implement of `get_quantization_params` function in `src/quant.py`"
      ]
    },
    {
      "cell_type": "code",
      "execution_count": 32,
      "metadata": {
        "id": "wtjXI5zjxVfS",
        "outputId": "fb3e6c43-e474-4488-b6fb-1cd63a2835b1",
        "colab": {
          "base_uri": "https://localhost:8080/"
        }
      },
      "outputs": [
        {
          "output_type": "stream",
          "name": "stdout",
          "text": [
            "(tensor(0.2857), 0)\n",
            "(tensor(0.1333), tensor(0.))\n"
          ]
        }
      ],
      "source": [
        "from src.quant import QConfig\n",
        "\n",
        "qconfig = QConfig(quant_bits=4, is_symmetric=True)\n",
        "print(qconfig.get_quantization_params(x.min(), x.max()))\n",
        "\n",
        "qconfig = QConfig(quant_bits=4, is_symmetric=False)\n",
        "print(qconfig.get_quantization_params(x.min(), x.max()))"
      ]
    },
    {
      "cell_type": "markdown",
      "metadata": {
        "id": "MLT8xONCoq_D"
      },
      "source": [
        "#### TODO 5: Implement the `quantize_weights_bias` function in `src/quant.py`"
      ]
    },
    {
      "cell_type": "code",
      "execution_count": 33,
      "metadata": {
        "id": "1athpSf1oq_D",
        "outputId": "bc9c71db-f6b1-4db3-edf6-9471d56bddc5",
        "colab": {
          "base_uri": "https://localhost:8080/"
        }
      },
      "outputs": [
        {
          "output_type": "stream",
          "name": "stdout",
          "text": [
            "tensor([ 2.0000, -0.5714,  0.0000,  0.8571])\n",
            "tensor([ 2.5000, -1.0714,  0.0000,  1.4286])\n"
          ]
        }
      ],
      "source": [
        "from src.quant import quantize_weights_bias, QConfig\n",
        "\n",
        "qconfig = QConfig(quant_bits=4, is_symmetric=True)\n",
        "\n",
        "w1 = nn.Parameter(torch.tensor([2, -0.5, 0., 1.]))\n",
        "qw1 = quantize_weights_bias(w1, qconfig)\n",
        "print(qw1.data)\n",
        "\n",
        "w2 = nn.Parameter(torch.tensor([2.5, -1, 0., 1.5]))\n",
        "qw2 = quantize_weights_bias(w2, qconfig)\n",
        "print(qw2.data)"
      ]
    },
    {
      "cell_type": "markdown",
      "metadata": {
        "id": "xnpBdnuBoq_E"
      },
      "source": [
        "## 5.2 Quantization Function for Linear and Convolution Layer\n",
        "\n",
        "#### TODO 6: Finish the implementation of `conv2d_linear_quantized` function in `src/quant.py`"
      ]
    },
    {
      "cell_type": "code",
      "execution_count": 34,
      "metadata": {
        "id": "XNN8WiYPoq_E",
        "outputId": "cacf079c-7cbf-42ec-f092-f28f9653eeb8",
        "colab": {
          "base_uri": "https://localhost:8080/"
        }
      },
      "outputs": [
        {
          "output_type": "stream",
          "name": "stdout",
          "text": [
            "tensor([[1.1000, 2.1000]], grad_fn=<AddmmBackward0>)\n",
            "tensor([[0.2451, 0.5716]], grad_fn=<AddBackward0>)\n"
          ]
        }
      ],
      "source": [
        "import torch.nn as nn\n",
        "from src.quant import QuantWrapper\n",
        "\n",
        "layer = nn.Linear(2, 2)\n",
        "layer.weight.data = torch.tensor([[0.1, 0.1], [-0.1, 0.1]]).view(2, 2).float()\n",
        "layer.bias.data = torch.tensor([1, 2]).view(*layer.bias.shape).float()\n",
        "x = torch.tensor([[0., 1]])\n",
        "print(layer(x))\n",
        "\n",
        "quant_layer = QuantWrapper(\n",
        "    layer,\n",
        "    QConfig(quant_bits=4, is_symmetric=True),\n",
        "    QConfig(quant_bits=4, is_symmetric=True),\n",
        "    QConfig(quant_bits=4, is_symmetric=True))\n",
        "print(quant_layer(x))\n"
      ]
    },
    {
      "cell_type": "markdown",
      "metadata": {
        "id": "lax5KDyxoq_F"
      },
      "source": [
        "## 5.3 Prepare model for QAT (Quantization Aware Training)"
      ]
    },
    {
      "cell_type": "markdown",
      "metadata": {
        "id": "yLFhKVStmTbG"
      },
      "source": [
        "### Get Audio Processor, Devices, Data Loader, and Model\n",
        "\n",
        "NOTE: This is identical to section 2.2 ."
      ]
    },
    {
      "cell_type": "code",
      "execution_count": 35,
      "metadata": {
        "id": "SBcLXHHim6ry",
        "outputId": "eeecb06e-d08c-4a35-ab9f-73659990f798",
        "colab": {
          "base_uri": "https://localhost:8080/"
        }
      },
      "outputs": [
        {
          "output_type": "stream",
          "name": "stdout",
          "text": [
            ">> Downloading speech_commands_v0.02.tar.gz 100.0%\n",
            "Audio_processor created\n",
            "Using cuda to run the training scrpit.\n",
            "Train size: 10556 Val size: 1333 Test size: 1368\n"
          ]
        },
        {
          "output_type": "execute_result",
          "data": {
            "text/plain": [
              "TinyConv(\n",
              "  (conv_reshape): Reshape(output_shape=(-1, 1, 49, 40))\n",
              "  (conv): Conv2d(1, 8, kernel_size=(10, 8), stride=(2, 2), padding=(5, 3))\n",
              "  (relu): ReLU()\n",
              "  (dropout): Dropout(p=0.5, inplace=False)\n",
              "  (fc_reshape): Reshape(output_shape=(-1, 4000))\n",
              "  (fc): Linear(in_features=4000, out_features=4, bias=True)\n",
              "  (softmax): Softmax(dim=1)\n",
              ")"
            ]
          },
          "metadata": {},
          "execution_count": 35
        }
      ],
      "source": [
        "# Create audio_processor\n",
        "# DATASET_DIR is defined in constants.py\n",
        "# HINT: In case loading data takes too long, move the dataset from gdrive to /content/ and change the path accordingly.\n",
        "audio_processor = data_proc.AudioProcessor(data_dir=DATASET_DIR)\n",
        "print(\"Audio_processor created\")\n",
        "\n",
        "# Define device\n",
        "device = torch.device(\"cuda\" if torch.cuda.is_available() else \"cpu\")\n",
        "print(f'Using {device} to run the training scrpit.')\n",
        "\n",
        "# Define data loaders\n",
        "from src.loaders import make_data_loaders\n",
        "data_loaders = make_data_loaders(audio_processor, device)\n",
        "train_loader = data_loaders['training']\n",
        "test_loader = data_loaders['testing']\n",
        "valid_loader = data_loaders['validation']\n",
        "\n",
        "# Create a full precision (float32) TinyConv model\n",
        "from src.networks import TinyConv\n",
        "model_fp32 = TinyConv(model_settings=audio_processor.model_settings, \\\n",
        "    n_input=1, n_output=audio_processor.num_labels)\n",
        "\n",
        "model_fp32"
      ]
    },
    {
      "cell_type": "markdown",
      "metadata": {
        "id": "P7wcn11MxVfT"
      },
      "source": [
        "### Load Pretrained Model for Quantization Aware Finetuning\n",
        "\n",
        "In this notebook, we will load the previously trained 32-bits float model to finetune it in a quantizaiton-aware way.\n",
        "\n"
      ]
    },
    {
      "cell_type": "code",
      "execution_count": 36,
      "metadata": {
        "id": "e_QYYl4oxVfT",
        "outputId": "eb5c4d4b-3c38-4bdb-f7c9-0dff6550a328",
        "colab": {
          "base_uri": "https://localhost:8080/"
        }
      },
      "outputs": [
        {
          "output_type": "stream",
          "name": "stdout",
          "text": [
            "fp32_checkpoint.pt  tinyconv_float32_init_seed0_90.28%_0.pt\n"
          ]
        }
      ],
      "source": [
        "!ls {TORCH_DIR}"
      ]
    },
    {
      "cell_type": "markdown",
      "metadata": {
        "id": "ys6gVPF6xVfT"
      },
      "source": [
        "### **TODO: Replace the torch_path model with the model you created in the last section.**\n",
        "\n",
        "You can find the name of your file in `TORCH_DIR` under the folder icon to the left. (Or from running the tab above)."
      ]
    },
    {
      "cell_type": "code",
      "execution_count": 37,
      "metadata": {
        "id": "98TcWxPWxVfU",
        "outputId": "591486ca-dbc9-47b5-bac1-db06b67727bd",
        "colab": {
          "base_uri": "https://localhost:8080/"
        }
      },
      "outputs": [
        {
          "output_type": "stream",
          "name": "stderr",
          "text": [
            "<ipython-input-37-40e93926a152>:5: FutureWarning: You are using `torch.load` with `weights_only=False` (the current default value), which uses the default pickle module implicitly. It is possible to construct malicious pickle data which will execute arbitrary code during unpickling (See https://github.com/pytorch/pytorch/blob/main/SECURITY.md#untrusted-models for more details). In a future release, the default value for `weights_only` will be flipped to `True`. This limits the functions that could be executed during unpickling. Arbitrary objects will no longer be allowed to be loaded via this mode unless they are explicitly allowlisted by the user via `torch.serialization.add_safe_globals`. We recommend you start setting `weights_only=True` for any use case where you don't have full control of the loaded file. Please open an issue on GitHub for any issues related to this experimental feature.\n",
            "  model_fp32.load_state_dict(torch.load(torch_path))\n"
          ]
        },
        {
          "output_type": "execute_result",
          "data": {
            "text/plain": [
              "TinyConv(\n",
              "  (conv_reshape): Reshape(output_shape=(-1, 1, 49, 40))\n",
              "  (conv): Conv2d(1, 8, kernel_size=(10, 8), stride=(2, 2), padding=(5, 3))\n",
              "  (relu): ReLU()\n",
              "  (dropout): Dropout(p=0.5, inplace=False)\n",
              "  (fc_reshape): Reshape(output_shape=(-1, 4000))\n",
              "  (fc): Linear(in_features=4000, out_features=4, bias=True)\n",
              "  (softmax): Softmax(dim=1)\n",
              ")"
            ]
          },
          "metadata": {},
          "execution_count": 37
        }
      ],
      "source": [
        "# TODO: Replace me!\n",
        "torch_path = os.path.join(TORCH_DIR, \"tinyconv_float32_init_seed0_90.28%_0.pt\")\n",
        "\n",
        "# Load model\n",
        "model_fp32.load_state_dict(torch.load(torch_path))\n",
        "model_fp32"
      ]
    },
    {
      "cell_type": "markdown",
      "metadata": {
        "id": "s6RTZp_yoq_F"
      },
      "source": [
        "### Define settings for weight and activation quantization"
      ]
    },
    {
      "cell_type": "code",
      "execution_count": 38,
      "metadata": {
        "id": "KrTGvZMtoq_F"
      },
      "outputs": [],
      "source": [
        "# We choose 4 bit quantization as an example because accuracy improvements will\n",
        "# be more obvious with 4-bit or lower bit quantization\n",
        "QUANT_BITS = 4\n",
        "# Settings for activations quantization: n-bit asymmetric quantization\n",
        "a_qconfig = QConfig(quant_bits=QUANT_BITS, is_symmetric=False)\n",
        "# Settings for weights quantization: n-bit symmetric quantization\n",
        "w_qconfig = QConfig(quant_bits=QUANT_BITS, is_symmetric=True)\n",
        "# Settings for bias quantization: n-bit symmetric quantization\n",
        "b_qconfig = QConfig(quant_bits=QUANT_BITS, is_symmetric=True)"
      ]
    },
    {
      "cell_type": "markdown",
      "metadata": {
        "id": "5FD7l9cNoq_F"
      },
      "source": [
        "### Prepare quantization aware training model"
      ]
    },
    {
      "cell_type": "code",
      "execution_count": 39,
      "metadata": {
        "id": "capV1g7loq_F",
        "outputId": "3726ffd7-4bdd-4280-dff7-8370f09e95b9",
        "colab": {
          "base_uri": "https://localhost:8080/"
        }
      },
      "outputs": [
        {
          "output_type": "stream",
          "name": "stdout",
          "text": [
            "TinyConv(\n",
            "  (conv_reshape): Reshape(output_shape=(-1, 1, 49, 40))\n",
            "  (conv): QuantWrapper(\n",
            "    (module): Conv2d(1, 8, kernel_size=(10, 8), stride=(2, 2), padding=(5, 3))\n",
            "  \t(activation): quant_bits=4, quant_mode=asymmetric, prev_scale=None, prev_zeropoint=None, prev_min=None, prev_max=None  \n",
            "  \t(weight): quant_bits=4, quant_mode=symmetric, prev_scale=None, prev_zeropoint=None, prev_min=None, prev_max=None  \n",
            "  \t(bias): quant_bits=4, quant_mode=symmetric, prev_scale=None, prev_zeropoint=None, prev_min=None, prev_max=None  \n",
            "  )\n",
            "  (relu): ReLU()\n",
            "  (dropout): Dropout(p=0.5, inplace=False)\n",
            "  (fc_reshape): Reshape(output_shape=(-1, 4000))\n",
            "  (fc): QuantWrapper(\n",
            "    (module): Linear(in_features=4000, out_features=4, bias=True)\n",
            "  \t(activation): quant_bits=4, quant_mode=asymmetric, prev_scale=None, prev_zeropoint=None, prev_min=None, prev_max=None  \n",
            "  \t(weight): quant_bits=4, quant_mode=symmetric, prev_scale=None, prev_zeropoint=None, prev_min=None, prev_max=None  \n",
            "  \t(bias): quant_bits=4, quant_mode=symmetric, prev_scale=None, prev_zeropoint=None, prev_min=None, prev_max=None  \n",
            "  )\n",
            "  (softmax): Softmax(dim=1)\n",
            ")\n"
          ]
        }
      ],
      "source": [
        "from src.quant import quantize_model\n",
        "qat_model_nbit = quantize_model(\n",
        "    model_fp32, a_qconfig=a_qconfig, w_qconfig=w_qconfig, b_qconfig=b_qconfig)\n",
        "\n",
        "# Print to see the model prepared for QAT\n",
        "print(qat_model_nbit)"
      ]
    },
    {
      "cell_type": "markdown",
      "metadata": {
        "id": "SkHtQEQXoq_G"
      },
      "source": [
        "##  5.4 Finetuning\n",
        "\n",
        "In this training, we will finetune the 32-bits float pretrained model. The goal is to finetune the weights of the 32-bits float model such that the resulted model will have better accuracy after quantization."
      ]
    },
    {
      "cell_type": "markdown",
      "metadata": {
        "id": "QvZ9g2QlxVfU"
      },
      "source": [
        "### Quantization Aware Finetuning"
      ]
    },
    {
      "cell_type": "code",
      "execution_count": 40,
      "metadata": {
        "id": "fCC9s6dUoq_H",
        "scrolled": false,
        "outputId": "03bc12a5-6f3c-49ee-d2dc-4d3d9b86b631",
        "colab": {
          "base_uri": "https://localhost:8080/",
          "height": 659,
          "referenced_widgets": [
            "add3ab10231848f4bf91444675f4ad45",
            "1d64d742df7448ef833d61a58246dafc",
            "d20b64f4a9be431dbecf4297f067a43e",
            "47b91ee2d5ad4710b0bfda501ca9ef14",
            "21198e7ca03d4532b4279bf1981aaf8e",
            "6f3559af8e814175a7af3292d91fe6a9",
            "dfea83fdc01745dcac7195afc4ed9665",
            "dc600478a9b74d8284b31158f31dd881",
            "e313263a967e488b931abe4c443aa459",
            "cafe96b5c895475b8cab9b7f674a33ee",
            "2ed58cf95a1f49c2babfd66f0ac54597"
          ]
        }
      },
      "outputs": [
        {
          "output_type": "stream",
          "name": "stdout",
          "text": [
            "#batches: 106 \n",
            "#epochs: 30 \n",
            "#total training steps: 3180\n",
            "{'state': {}, 'param_groups': [{'lr': 0.001, 'betas': (0.9, 0.999), 'eps': 1e-08, 'weight_decay': 0.0001, 'amsgrad': False, 'maximize': False, 'foreach': None, 'capturable': False, 'differentiable': False, 'fused': None, 'params': [0, 1, 2, 3]}]}\n"
          ]
        },
        {
          "output_type": "display_data",
          "data": {
            "text/plain": [
              "  0%|          | 0/30 [00:00<?, ?it/s]"
            ],
            "application/vnd.jupyter.widget-view+json": {
              "version_major": 2,
              "version_minor": 0,
              "model_id": "add3ab10231848f4bf91444675f4ad45"
            }
          },
          "metadata": {}
        },
        {
          "output_type": "stream",
          "name": "stdout",
          "text": [
            "Val Acc Epoch 1 = 73.07%, Train loss = 1.197\n",
            "Val Acc Epoch 2 = 80.12%, Train loss = 0.715\n",
            "Val Acc Epoch 3 = 80.8%, Train loss = 0.611\n",
            "Val Acc Epoch 4 = 82.6%, Train loss = 0.561\n",
            "Val Acc Epoch 5 = 84.62%, Train loss = 0.523\n",
            "Val Acc Epoch 6 = 83.95%, Train loss = 0.487\n",
            "Val Acc Epoch 7 = 85.22%, Train loss = 0.477\n",
            "Val Acc Epoch 8 = 85.07%, Train loss = 0.465\n",
            "Val Acc Epoch 9 = 85.3%, Train loss = 0.451\n",
            "Val Acc Epoch 10 = 86.35%, Train loss = 0.443\n",
            "Val Acc Epoch 11 = 86.57%, Train loss = 0.43\n",
            "Val Acc Epoch 12 = 86.72%, Train loss = 0.422\n",
            "Val Acc Epoch 13 = 87.02%, Train loss = 0.405\n",
            "Val Acc Epoch 14 = 87.32%, Train loss = 0.399\n",
            "Val Acc Epoch 15 = 87.92%, Train loss = 0.396\n",
            "Val Acc Epoch 16 = 87.32%, Train loss = 0.397\n",
            "Val Acc Epoch 17 = 88.22%, Train loss = 0.384\n",
            "Val Acc Epoch 18 = 86.2%, Train loss = 0.387\n",
            "Val Acc Epoch 19 = 88.97%, Train loss = 0.378\n",
            "Val Acc Epoch 20 = 87.85%, Train loss = 0.361\n",
            "Val Acc Epoch 21 = 88.22%, Train loss = 0.353\n",
            "Val Acc Epoch 22 = 88.3%, Train loss = 0.364\n",
            "Val Acc Epoch 23 = 88.97%, Train loss = 0.358\n",
            "Val Acc Epoch 24 = 88.45%, Train loss = 0.347\n",
            "Val Acc Epoch 25 = 88.37%, Train loss = 0.352\n",
            "Val Acc Epoch 26 = 88.97%, Train loss = 0.342\n",
            "Val Acc Epoch 27 = 88.45%, Train loss = 0.341\n",
            "Val Acc Epoch 28 = 89.5%, Train loss = 0.336\n",
            "Val Acc Epoch 29 = 89.95%, Train loss = 0.336\n",
            "Val Acc Epoch 30 = 90.4%, Train loss = 0.34\n"
          ]
        }
      ],
      "source": [
        "import time\n",
        "from src.train_val_test_utils import train, test\n",
        "from src.train_val_test_utils import create_optimizer\n",
        "\n",
        "\n",
        "def run_training(model, data_loaders, n_epoch, log_interval, optimizer, scheduler=None,\n",
        "                 save_interval=1, resume=True, checkpoint_path=None, verbose=False):\n",
        "    test_loader = data_loaders['testing']\n",
        "    with tqdm(total=n_epoch) as pbar:\n",
        "        completed_epoch = 1\n",
        "        if resume:\n",
        "            try:\n",
        "                #continue training with previous model if one exists\n",
        "                if checkpoint_path is None:\n",
        "                    raise ValueError\n",
        "                checkpoint = torch.load(checkpoint_path)\n",
        "                model.load_state_dict(checkpoint['model_state_dict'])\n",
        "                optimizer.load_state_dict(checkpoint['optimizer_state_dict'])\n",
        "                if scheduler is not None:\n",
        "                    scheduler.load_state_dict(checkpoint['scheduler_state_dict'])\n",
        "                completed_epoch = checkpoint[\"epoch\"] + 1\n",
        "                model.eval()\n",
        "                pbar.update(completed_epoch)\n",
        "            except:\n",
        "                pass\n",
        "\n",
        "        for epoch in range(completed_epoch, n_epoch + 1):\n",
        "            train_iters = len(data_loaders['training'])\n",
        "            train(model, data_loaders, optimizer, epoch, device, verbose)\n",
        "            test(test_loader, model, device,\n",
        "                 epoch=None, loader_type='Test')\n",
        "\n",
        "            if scheduler is not None:\n",
        "                scheduler.step()\n",
        "            #checkpoint the model every run\n",
        "            if epoch % save_interval == 0 and checkpoint_path is not None:\n",
        "                torch.save({\n",
        "                    'epoch': epoch,\n",
        "                    'model_state_dict': model.state_dict(),\n",
        "                    'optimizer_state_dict': optimizer.state_dict(),\n",
        "                    'scheduler_state_dict': scheduler.state_dict() if scheduler is not None else None\n",
        "                }, checkpoint_path)\n",
        "\n",
        "            # Update epoch pbar\n",
        "            pbar.update(1)\n",
        "\n",
        "\n",
        "verbose = False\n",
        "log_interval = 100\n",
        "num_batches = len(train_loader)\n",
        "n_epoch = 30\n",
        "print(f'#batches: {num_batches} \\n#epochs: {n_epoch} \\n#total training steps: {num_batches * n_epoch}')\n",
        "\n",
        "# Create optimizer\n",
        "optimizer_quant = create_optimizer(model=qat_model_nbit, learning_rate=0.001)\n",
        "print(optimizer_quant.state_dict())\n",
        "\n",
        "checkpoint_path = os.path.join(TORCH_DIR, \"quant_checkpoint.pt\")\n",
        "qat_model_nbit.to(device)\n",
        "run_training(\n",
        "    model=qat_model_nbit, data_loaders=data_loaders,\n",
        "    n_epoch=n_epoch, log_interval=log_interval,\n",
        "    optimizer=optimizer_quant, scheduler=None,\n",
        "    resume=False,\n",
        "    checkpoint_path=checkpoint_path,\n",
        "    verbose=verbose\n",
        ")"
      ]
    },
    {
      "cell_type": "markdown",
      "metadata": {
        "id": "Rj8xFMjqxVfV"
      },
      "source": [
        "### Finetune the Float Model\n",
        "\n",
        "For fair comparison, we conduct the same funetuning for the float model."
      ]
    },
    {
      "cell_type": "code",
      "execution_count": 41,
      "metadata": {
        "id": "hx9VthdKxVfV",
        "scrolled": false,
        "outputId": "7297cd26-efb5-4b8d-e4c6-9a75d536102f",
        "colab": {
          "base_uri": "https://localhost:8080/",
          "height": 570,
          "referenced_widgets": [
            "001066d105584d55b895c3983c1caa96",
            "c9917c4d0ac044a0b5915cf121e5552f",
            "a463074562ba48e2b2f646acebeada48",
            "36f48ee088524c868709145c1f3966aa",
            "4db61285a0de48bbb8a571c4de5af53d",
            "ea12cacb156c4ccb90b74b37a1fbe069",
            "fb2724876f814cb2a3ecf0d13eb13657",
            "8c0fa489ab204e9abcfa730116f14d65",
            "7d10da6f84d646798098d56cefa2b1b4",
            "25af513d76434a09bfb5a28b9962085f",
            "176f7b8fca494e65812155481a46a977"
          ]
        }
      },
      "outputs": [
        {
          "output_type": "display_data",
          "data": {
            "text/plain": [
              "  0%|          | 0/30 [00:00<?, ?it/s]"
            ],
            "application/vnd.jupyter.widget-view+json": {
              "version_major": 2,
              "version_minor": 0,
              "model_id": "001066d105584d55b895c3983c1caa96"
            }
          },
          "metadata": {}
        },
        {
          "output_type": "stream",
          "name": "stdout",
          "text": [
            "Val Acc Epoch 1 = 90.17%, Train loss = 0.329\n",
            "Val Acc Epoch 2 = 90.17%, Train loss = 0.32\n",
            "Val Acc Epoch 3 = 90.55%, Train loss = 0.319\n",
            "Val Acc Epoch 4 = 90.85%, Train loss = 0.314\n",
            "Val Acc Epoch 5 = 90.85%, Train loss = 0.323\n",
            "Val Acc Epoch 6 = 90.25%, Train loss = 0.31\n",
            "Val Acc Epoch 7 = 91.3%, Train loss = 0.31\n",
            "Val Acc Epoch 8 = 91.3%, Train loss = 0.317\n",
            "Val Acc Epoch 9 = 91.75%, Train loss = 0.311\n",
            "Val Acc Epoch 10 = 90.62%, Train loss = 0.301\n",
            "Val Acc Epoch 11 = 90.92%, Train loss = 0.313\n",
            "Val Acc Epoch 12 = 90.4%, Train loss = 0.309\n",
            "Val Acc Epoch 13 = 90.32%, Train loss = 0.302\n",
            "Val Acc Epoch 14 = 90.85%, Train loss = 0.295\n",
            "Val Acc Epoch 15 = 91.37%, Train loss = 0.296\n",
            "Val Acc Epoch 16 = 90.85%, Train loss = 0.307\n",
            "Val Acc Epoch 17 = 91.67%, Train loss = 0.293\n",
            "Val Acc Epoch 18 = 90.77%, Train loss = 0.301\n",
            "Val Acc Epoch 19 = 91.97%, Train loss = 0.291\n",
            "Val Acc Epoch 20 = 91.0%, Train loss = 0.298\n",
            "Val Acc Epoch 21 = 91.37%, Train loss = 0.293\n",
            "Val Acc Epoch 22 = 90.62%, Train loss = 0.294\n",
            "Val Acc Epoch 23 = 91.3%, Train loss = 0.301\n",
            "Val Acc Epoch 24 = 91.07%, Train loss = 0.29\n",
            "Val Acc Epoch 25 = 91.52%, Train loss = 0.285\n",
            "Val Acc Epoch 26 = 92.12%, Train loss = 0.285\n",
            "Val Acc Epoch 27 = 91.15%, Train loss = 0.289\n",
            "Val Acc Epoch 28 = 91.45%, Train loss = 0.302\n",
            "Val Acc Epoch 29 = 91.0%, Train loss = 0.29\n",
            "Val Acc Epoch 30 = 92.12%, Train loss = 0.294\n"
          ]
        }
      ],
      "source": [
        "# Create optimizer\n",
        "optimizer_fp32 = create_optimizer(model=model_fp32, learning_rate=0.0001)\n",
        "\n",
        "checkpoint_path = os.path.join(TORCH_DIR, \"fp32_finetune_checkpoint.pt\")\n",
        "model_fp32.to(device)\n",
        "run_training(\n",
        "    model=model_fp32, data_loaders=data_loaders,\n",
        "    n_epoch=n_epoch, log_interval=log_interval,\n",
        "    optimizer=optimizer_fp32, scheduler=None,\n",
        "    resume=False,\n",
        "    checkpoint_path=checkpoint_path,\n",
        "    verbose=verbose\n",
        ")"
      ]
    },
    {
      "cell_type": "markdown",
      "metadata": {
        "id": "jOIj0QUOoq_H"
      },
      "source": [
        "## 5.5 Testing"
      ]
    },
    {
      "cell_type": "markdown",
      "metadata": {
        "id": "95C3tSGNoq_H"
      },
      "source": [
        "We will compute the accuracy of the finetuned model in train/val/test set in this section.\n",
        "Note that this is not the final accuracy we want the model to perform well on.\n",
        "We would like our quantized-aware-finetuned model to perform well when quantized into integer.\n",
        "But the training/validation/testing accuracy of these model in quantization simulation model is still worth looking at for sanity checking purpose."
      ]
    },
    {
      "cell_type": "code",
      "execution_count": 42,
      "metadata": {
        "id": "0eFxrBqCoq_H",
        "scrolled": false,
        "outputId": "0f007fce-7a35-42b3-862e-ef6127f1a32c",
        "colab": {
          "base_uri": "https://localhost:8080/",
          "height": 1000
        }
      },
      "outputs": [
        {
          "output_type": "stream",
          "name": "stdout",
          "text": [
            "Train size: 10556 Val size: 1333 Test size: 1368\n"
          ]
        },
        {
          "output_type": "display_data",
          "data": {
            "text/plain": [
              "<Figure size 640x480 with 1 Axes>"
            ],
            "image/png": "[encoded data removed]"
          },
          "metadata": {}
        },
        {
          "output_type": "display_data",
          "data": {
            "text/plain": [
              "<Figure size 640x480 with 1 Axes>"
            ],
            "image/png": "[encoded data removed]"
          },
          "metadata": {}
        },
        {
          "output_type": "display_data",
          "data": {
            "text/plain": [
              "<Figure size 640x480 with 1 Axes>"
            ],
            "image/png": "[encoded data removed]"
          },
          "metadata": {}
        },
        {
          "output_type": "execute_result",
          "data": {
            "text/plain": [
              "0.9013157894736842"
            ]
          },
          "metadata": {},
          "execution_count": 42
        }
      ],
      "source": [
        "from src.train_val_test_utils import plot_acc\n",
        "\n",
        "test_time_data_loaders = make_data_loaders(\n",
        "    audio_processor, device,\n",
        "    test_batch_size=1, valid_batch_size=1,\n",
        "    num_workers=0\n",
        ")\n",
        "\n",
        "plot_acc(\n",
        "    test_time_data_loaders['training'], qat_model_nbit, audio_processor, device,\n",
        "    \"Training\", 'n-bit Quantized TinyConv', \"float\")\n",
        "plot_acc(\n",
        "    test_time_data_loaders['validation'], qat_model_nbit, audio_processor, device,\n",
        "    \"Validation\", 'n-bit Quantized TinyConv', \"float\")\n",
        "plot_acc(\n",
        "    test_time_data_loaders['testing'], qat_model_nbit, audio_processor, device,\n",
        "    'Testing', 'n-bit Quantized TinyConv', \"float\")"
      ]
    },
    {
      "cell_type": "code",
      "execution_count": 43,
      "metadata": {
        "id": "GnJHV-H_xVfV",
        "outputId": "f447bf6f-9185-4abd-ffbb-3d6a1bf8bfe6",
        "colab": {
          "base_uri": "https://localhost:8080/",
          "height": 1000
        }
      },
      "outputs": [
        {
          "output_type": "display_data",
          "data": {
            "text/plain": [
              "<Figure size 640x480 with 1 Axes>"
            ],
            "image/png": "[encoded data removed]"
          },
          "metadata": {}
        },
        {
          "output_type": "display_data",
          "data": {
            "text/plain": [
              "<Figure size 640x480 with 1 Axes>"
            ],
            "image/png": "[encoded data removed]"
          },
          "metadata": {}
        },
        {
          "output_type": "display_data",
          "data": {
            "text/plain": [
              "<Figure size 640x480 with 1 Axes>"
            ],
            "image/png": "[encoded data removed]"
          },
          "metadata": {}
        }
      ],
      "source": [
        "plot_acc(\n",
        "    test_time_data_loaders['training'], model_fp32, audio_processor, device,\n",
        "    \"Training\", 'FP32 FT TinyConv', \"float\")\n",
        "plot_acc(\n",
        "    test_time_data_loaders['validation'], model_fp32, audio_processor, device,\n",
        "    \"Validation\", 'FP32 FT TinyConv', \"float\")\n",
        "acc = plot_acc(\n",
        "    test_time_data_loaders['testing'], model_fp32, audio_processor, device,\n",
        "    'Testing', 'FP32 FT TinyConv', \"float\")"
      ]
    },
    {
      "cell_type": "markdown",
      "metadata": {
        "id": "5AehU-BsJgBV"
      },
      "source": [
        "## 5.6 Saving the Trained Model"
      ]
    },
    {
      "cell_type": "code",
      "execution_count": 44,
      "metadata": {
        "id": "agtFnTuTJgBV",
        "outputId": "fc2c9237-64cb-4240-9fd2-cbba26abf42f",
        "colab": {
          "base_uri": "https://localhost:8080/",
          "height": 104
        }
      },
      "outputs": [
        {
          "output_type": "stream",
          "name": "stdout",
          "text": [
            "Layer to be deprepared: QuantWrapper: conv\n",
            "Layer to be deprepared: QuantWrapper: fc\n",
            "The model's will be stored as: \n",
            " quant_0\n"
          ]
        },
        {
          "output_type": "execute_result",
          "data": {
            "text/plain": [
              "'/content/gdrive/MyDrive/ece5545/models/torch_models/(QAT4bit)quant_0.pt'"
            ],
            "application/vnd.google.colaboratory.intrinsic+json": {
              "type": "string"
            }
          },
          "metadata": {},
          "execution_count": 44
        }
      ],
      "source": [
        "from src.train_val_test_utils import choose_name\n",
        "from src.quant import dequantize_model\n",
        "\n",
        "# Save the qat model\n",
        "qat_model_nbit_float = dequantize_model(qat_model_nbit)\n",
        "file_name = choose_name(\"quant\")\n",
        "# You can also define your own path\n",
        "qat_torch_path = os.path.join(TORCH_DIR, f'(QAT{QUANT_BITS}bit){file_name}.pt')\n",
        "# Save the trained n-bit qat pytorch model to PATH\n",
        "torch.save(qat_model_nbit.state_dict(), qat_torch_path)\n",
        "qat_torch_path"
      ]
    },
    {
      "cell_type": "markdown",
      "metadata": {
        "id": "mij775vWoq_I"
      },
      "source": [
        "## 5.7 Understanding and Evaluate the Effectiveness of Quantization-Aware Training (QAT)"
      ]
    },
    {
      "cell_type": "markdown",
      "metadata": {
        "id": "oUCINlWNtQB-"
      },
      "source": [
        "### Model conversion: Quantized/Float Fine-tuning Model Converted to Integer Models"
      ]
    },
    {
      "cell_type": "code",
      "execution_count": 45,
      "metadata": {
        "id": "odKeXjOSoq_I"
      },
      "outputs": [],
      "source": [
        "from src.quant import dequantize_model\n",
        "from src.quant_conversion import convert_to_int"
      ]
    },
    {
      "cell_type": "code",
      "execution_count": 46,
      "metadata": {
        "id": "3ssFRMhToq_I",
        "outputId": "3be4732a-0ce6-4a32-e5ae-2366f490d064",
        "colab": {
          "base_uri": "https://localhost:8080/"
        }
      },
      "outputs": [
        {
          "output_type": "stream",
          "name": "stdout",
          "text": [
            "Staying the same: conv_reshape Reshape(output_shape=(-1, 1, 49, 40))\n",
            "Staying the same: relu ReLU()\n",
            "Staying the same: dropout Dropout(p=0.5, inplace=False)\n",
            "Staying the same: fc_reshape Reshape(output_shape=(-1, 4000))\n",
            "Staying the same: conv_reshape Reshape(output_shape=(-1, 1, 49, 40))\n",
            "Staying the same: relu ReLU()\n",
            "Staying the same: dropout Dropout(p=0.5, inplace=False)\n",
            "Staying the same: fc_reshape Reshape(output_shape=(-1, 4000))\n",
            "Layer to be deprepared: QuantWrapper: conv\n",
            "Layer to be deprepared: QuantWrapper: fc\n",
            "Sequential(\n",
            "  (quant): Quant(): qconfig=quant_bits=4, quant_mode=asymmetric, prev_scale=None, prev_zeropoint=None, prev_min=None, prev_max=None ; dtype=torch.int32\n",
            "  (conv_reshape): Reshape(output_shape=(-1, 1, 49, 40))\n",
            "  (conv_quant): Quant(): qconfig=quant_bits=4, quant_mode=asymmetric, prev_scale=1.6969242095947266, prev_zeropoint=0.0, prev_min=0.0, prev_max=25.453861236572266 ; dtype=torch.int32\n",
            "  (conv): Conv2d(1, 8, kernel_size=(10, 8), stride=(2, 2), padding=(5, 3))\n",
            "  (relu): ReLU()\n",
            "  (dropout): Dropout(p=0.5, inplace=False)\n",
            "  (fc_reshape): Reshape(output_shape=(-1, 4000))\n",
            "  (fc_quant): Quant(): qconfig=quant_bits=4, quant_mode=asymmetric, prev_scale=0.8499742150306702, prev_zeropoint=0.0, prev_min=0.0, prev_max=12.749612808227539 ; dtype=torch.int32\n",
            "  (fc): Linear(in_features=4000, out_features=4, bias=True)\n",
            "  (dequant): DeQuant()\n",
            "  (softmax): Softmax(dim=1)\n",
            ")\n"
          ]
        }
      ],
      "source": [
        "# Convert to quantized model\n",
        "\n",
        "# Quantized integer model of qat_model_nbit (quantized aware finetuning model)\n",
        "int_model_nbit = convert_to_int(\n",
        "    qat_model_nbit, QUANT_BITS, dtype=torch.int32)\n",
        "\n",
        "# Post quantized model of model_fp32 (full-precision finetuned model)\n",
        "post_quant_model = convert_to_int(\n",
        "    model_fp32, QUANT_BITS, dtype=torch.int32)\n",
        "\n",
        "# Floating point models of the qat_model_nbit, without QuantWrappers\n",
        "float_model_nbit = dequantize_model(qat_model_nbit)\n",
        "\n",
        "print(int_model_nbit)"
      ]
    },
    {
      "cell_type": "code",
      "execution_count": 47,
      "metadata": {
        "id": "Jh2NGspeoq_I",
        "outputId": "b96db8dd-6fca-4d86-86bc-8698f76464a1",
        "colab": {
          "base_uri": "https://localhost:8080/"
        }
      },
      "outputs": [
        {
          "output_type": "stream",
          "name": "stdout",
          "text": [
            "================================================================================\n",
            "Features from Quantized QAT Model\n",
            "--------------------------------------------------------------------------------\n",
            "features of Quantized QAT Model parameters:\n",
            "conv.weight: min=0; max=0; dtype=torch.int32; shape=torch.Size([8, 1, 10, 8])\n",
            "conv.bias: min=-3; max=0; dtype=torch.int32; shape=torch.Size([8])\n",
            "fc.weight: min=0; max=0; dtype=torch.int32; shape=torch.Size([4, 4000])\n",
            "fc.bias: min=0; max=0; dtype=torch.int32; shape=torch.Size([4])\n",
            "features of Quantized QAT Model activations/outputs\n",
            "input: min=0.0; max=23.6328125; dtype=torch.float32; shape=torch.Size([1, 1960])\n",
            "output of quant: min=0; max=23; dtype=torch.int32; shape=torch.Size([1, 1960])\n",
            "output of conv_reshape: min=0; max=23; dtype=torch.int32; shape=torch.Size([1, 1, 49, 40])\n",
            "output of conv_quant: min=0; max=23; dtype=torch.int32; shape=torch.Size([1, 1, 49, 40])\n",
            "output of conv: min=-3; max=0; dtype=torch.int32; shape=torch.Size([1, 8, 25, 20])\n",
            "output of relu: min=0; max=0; dtype=torch.int32; shape=torch.Size([1, 8, 25, 20])\n",
            "output of dropout: min=0; max=0; dtype=torch.int32; shape=torch.Size([1, 8, 25, 20])\n",
            "output of fc_reshape: min=0; max=0; dtype=torch.int32; shape=torch.Size([1, 4000])\n",
            "output of fc_quant: min=0; max=0; dtype=torch.int32; shape=torch.Size([1, 4000])\n",
            "output of fc: min=0; max=0; dtype=torch.int32; shape=torch.Size([1, 4])\n",
            "output of dequant: min=0.0; max=0.0; dtype=torch.float32; shape=torch.Size([1, 4])\n",
            "output of softmax: min=0.25; max=0.25; dtype=torch.float32; shape=torch.Size([1, 4])\n",
            "\n",
            "================================================================================\n",
            "Features from Model fp32\n",
            "--------------------------------------------------------------------------------\n",
            "features of Model fp32 parameters:\n",
            "conv.weight: min=-0.27358168363571167; max=0.11322348564863205; dtype=torch.float32; shape=torch.Size([8, 1, 10, 8])\n",
            "conv.bias: min=-1.0994102954864502; max=0.20307379961013794; dtype=torch.float32; shape=torch.Size([8])\n",
            "fc.weight: min=-0.30696094036102295; max=0.3223881721496582; dtype=torch.float32; shape=torch.Size([4, 4000])\n",
            "fc.bias: min=-0.2557779848575592; max=0.5126623511314392; dtype=torch.float32; shape=torch.Size([4])\n",
            "features of Model fp32 activations/outputs\n",
            "input: min=0.0; max=23.6328125; dtype=torch.float32; shape=torch.Size([1, 1960])\n",
            "output of conv_reshape: min=0.0; max=23.6328125; dtype=torch.float32; shape=torch.Size([1, 1, 49, 40])\n",
            "output of conv: min=-50.266963958740234; max=6.083224773406982; dtype=torch.float32; shape=torch.Size([1, 8, 25, 20])\n",
            "output of relu: min=0.0; max=6.083224773406982; dtype=torch.float32; shape=torch.Size([1, 8, 25, 20])\n",
            "output of dropout: min=0.0; max=6.083224773406982; dtype=torch.float32; shape=torch.Size([1, 8, 25, 20])\n",
            "output of fc_reshape: min=0.0; max=6.083224773406982; dtype=torch.float32; shape=torch.Size([1, 4000])\n",
            "output of fc: min=-2.692460536956787; max=5.466007232666016; dtype=torch.float32; shape=torch.Size([1, 4])\n",
            "output of softmax: min=0.0002855582570191473; max=0.9974071383476257; dtype=torch.float32; shape=torch.Size([1, 4])\n"
          ]
        }
      ],
      "source": [
        "from src.quant_conversion import print_features\n",
        "\n",
        "# Select a sample data to see the features of it\n",
        "sample_data, _ = audio_processor.get_data_from_file(\n",
        "    audio_processor.data_index['testing'][0], BACKGROUND_FREQUENCY,\n",
        "    BACKGROUND_VOLUME_RANGE, TIME_SHIFT_SAMPLE, 'testing')\n",
        "\n",
        "print(\"=\" * 80)\n",
        "print(\"Features from Quantized QAT Model\")\n",
        "print(\"-\" * 80)\n",
        "print_features(sample_data, int_model_nbit, 'Quantized QAT Model')\n",
        "print()\n",
        "print(\"=\" * 80)\n",
        "print(\"Features from Model fp32\")\n",
        "print(\"-\" * 80)\n",
        "print_features(sample_data, model_fp32, \"Model fp32\")"
      ]
    },
    {
      "cell_type": "markdown",
      "metadata": {
        "id": "TMm7grfnoq_I"
      },
      "source": [
        "### Compare the Performance Between Integer Models from Float/Quantized-Aware Finetuning"
      ]
    },
    {
      "cell_type": "code",
      "execution_count": 48,
      "metadata": {
        "id": "kHJaISbYoq_J",
        "outputId": "003c79be-c7eb-48b4-dd59-87c858420f35",
        "colab": {
          "base_uri": "https://localhost:8080/"
        }
      },
      "outputs": [
        {
          "output_type": "stream",
          "name": "stdout",
          "text": [
            "The models have 19.371% same predictions, \n",
            "Model1 predicts 88.743% of the samples correctly, \n",
            "Model2 predicts 19.883% of the samples correctly\n",
            "MSE between two models' prediction: 0.1872\n"
          ]
        }
      ],
      "source": [
        "from src.quant_conversion import compare_model, compare_model_mse\n",
        "\n",
        "# Compare differences in predictions\n",
        "# QAT trained floating point model vs. integer model converted from the QAT model\n",
        "# Percentage of same predictions shows how \"quantization aware\" the float point model is\n",
        "_ = compare_model(test_loader, float_model_nbit, int_model_nbit)\n",
        "_ = compare_model_mse(test_loader, float_model_nbit, int_model_nbit)"
      ]
    },
    {
      "cell_type": "code",
      "execution_count": 49,
      "metadata": {
        "id": "RNikQddjoq_J",
        "outputId": "b8175811-9f53-4eb0-bdab-127d9733bea2",
        "colab": {
          "base_uri": "https://localhost:8080/"
        }
      },
      "outputs": [
        {
          "output_type": "stream",
          "name": "stdout",
          "text": [
            "The models have 19.883% same predictions, \n",
            "Model1 predicts 91.740% of the samples correctly, \n",
            "Model2 predicts 19.883% of the samples correctly\n",
            "MSE between two models' prediction: 0.1559\n"
          ]
        }
      ],
      "source": [
        "from src.quant_conversion import compare_model, compare_model_mse\n",
        "\n",
        "# Float32 model vs. integer model converted from the float32 model using post training quantization\n",
        "_ = compare_model(test_loader, model_fp32, post_quant_model)\n",
        "_ = compare_model_mse(test_loader, model_fp32, post_quant_model)"
      ]
    }
  ],
  "metadata": {
    "accelerator": "GPU",
    "colab": {
      "name": "5_quantization.ipynb",
      "provenance": [],
      "machine_shape": "hm",
      "gpuType": "A100",
      "include_colab_link": true
    },
    "interpreter": {
      "hash": "eed6bdaff5cc743acd241b8f3fe4c5dc3266475018a66ac615ca19ad2f28387d"
    },
    "kernelspec": {
      "display_name": "Python 3",
      "name": "python3"
    },
    "language_info": {
      "codemirror_mode": {
        "name": "ipython",
        "version": 3
      },
      "file_extension": ".py",
      "mimetype": "text/x-python",
      "name": "python",
      "nbconvert_exporter": "python",
      "pygments_lexer": "ipython3",
      "version": "3.8.3"
    },
    "widgets": {
      "application/vnd.jupyter.widget-state+json": {
        "add3ab10231848f4bf91444675f4ad45": {
          "model_module": "@jupyter-widgets/controls",
          "model_name": "HBoxModel",
          "model_module_version": "1.5.0",
          "state": {
            "_dom_classes": [],
            "_model_module": "@jupyter-widgets/controls",
            "_model_module_version": "1.5.0",
            "_model_name": "HBoxModel",
            "_view_count": null,
            "_view_module": "@jupyter-widgets/controls",
            "_view_module_version": "1.5.0",
            "_view_name": "HBoxView",
            "box_style": "",
            "children": [
              "IPY_MODEL_1d64d742df7448ef833d61a58246dafc",
              "IPY_MODEL_d20b64f4a9be431dbecf4297f067a43e",
              "IPY_MODEL_47b91ee2d5ad4710b0bfda501ca9ef14"
            ],
            "layout": "IPY_MODEL_21198e7ca03d4532b4279bf1981aaf8e"
          }
        },
        "1d64d742df7448ef833d61a58246dafc": {
          "model_module": "@jupyter-widgets/controls",
          "model_name": "HTMLModel",
          "model_module_version": "1.5.0",
          "state": {
            "_dom_classes": [],
            "_model_module": "@jupyter-widgets/controls",
            "_model_module_version": "1.5.0",
            "_model_name": "HTMLModel",
            "_view_count": null,
            "_view_module": "@jupyter-widgets/controls",
            "_view_module_version": "1.5.0",
            "_view_name": "HTMLView",
            "description": "",
            "description_tooltip": null,
            "layout": "IPY_MODEL_6f3559af8e814175a7af3292d91fe6a9",
            "placeholder": "​",
            "style": "IPY_MODEL_dfea83fdc01745dcac7195afc4ed9665",
            "value": "100%"
          }
        },
        "d20b64f4a9be431dbecf4297f067a43e": {
          "model_module": "@jupyter-widgets/controls",
          "model_name": "FloatProgressModel",
          "model_module_version": "1.5.0",
          "state": {
            "_dom_classes": [],
            "_model_module": "@jupyter-widgets/controls",
            "_model_module_version": "1.5.0",
            "_model_name": "FloatProgressModel",
            "_view_count": null,
            "_view_module": "@jupyter-widgets/controls",
            "_view_module_version": "1.5.0",
            "_view_name": "ProgressView",
            "bar_style": "success",
            "description": "",
            "description_tooltip": null,
            "layout": "IPY_MODEL_dc600478a9b74d8284b31158f31dd881",
            "max": 30,
            "min": 0,
            "orientation": "horizontal",
            "style": "IPY_MODEL_e313263a967e488b931abe4c443aa459",
            "value": 30
          }
        },
        "47b91ee2d5ad4710b0bfda501ca9ef14": {
          "model_module": "@jupyter-widgets/controls",
          "model_name": "HTMLModel",
          "model_module_version": "1.5.0",
          "state": {
            "_dom_classes": [],
            "_model_module": "@jupyter-widgets/controls",
            "_model_module_version": "1.5.0",
            "_model_name": "HTMLModel",
            "_view_count": null,
            "_view_module": "@jupyter-widgets/controls",
            "_view_module_version": "1.5.0",
            "_view_name": "HTMLView",
            "description": "",
            "description_tooltip": null,
            "layout": "IPY_MODEL_cafe96b5c895475b8cab9b7f674a33ee",
            "placeholder": "​",
            "style": "IPY_MODEL_2ed58cf95a1f49c2babfd66f0ac54597",
            "value": " 30/30 [40:06&lt;00:00, 80.02s/it]"
          }
        },
        "21198e7ca03d4532b4279bf1981aaf8e": {
          "model_module": "@jupyter-widgets/base",
          "model_name": "LayoutModel",
          "model_module_version": "1.2.0",
          "state": {
            "_model_module": "@jupyter-widgets/base",
            "_model_module_version": "1.2.0",
            "_model_name": "LayoutModel",
            "_view_count": null,
            "_view_module": "@jupyter-widgets/base",
            "_view_module_version": "1.2.0",
            "_view_name": "LayoutView",
            "align_content": null,
            "align_items": null,
            "align_self": null,
            "border": null,
            "bottom": null,
            "display": null,
            "flex": null,
            "flex_flow": null,
            "grid_area": null,
            "grid_auto_columns": null,
            "grid_auto_flow": null,
            "grid_auto_rows": null,
            "grid_column": null,
            "grid_gap": null,
            "grid_row": null,
            "grid_template_areas": null,
            "grid_template_columns": null,
            "grid_template_rows": null,
            "height": null,
            "justify_content": null,
            "justify_items": null,
            "left": null,
            "margin": null,
            "max_height": null,
            "max_width": null,
            "min_height": null,
            "min_width": null,
            "object_fit": null,
            "object_position": null,
            "order": null,
            "overflow": null,
            "overflow_x": null,
            "overflow_y": null,
            "padding": null,
            "right": null,
            "top": null,
            "visibility": null,
            "width": null
          }
        },
        "6f3559af8e814175a7af3292d91fe6a9": {
          "model_module": "@jupyter-widgets/base",
          "model_name": "LayoutModel",
          "model_module_version": "1.2.0",
          "state": {
            "_model_module": "@jupyter-widgets/base",
            "_model_module_version": "1.2.0",
            "_model_name": "LayoutModel",
            "_view_count": null,
            "_view_module": "@jupyter-widgets/base",
            "_view_module_version": "1.2.0",
            "_view_name": "LayoutView",
            "align_content": null,
            "align_items": null,
            "align_self": null,
            "border": null,
            "bottom": null,
            "display": null,
            "flex": null,
            "flex_flow": null,
            "grid_area": null,
            "grid_auto_columns": null,
            "grid_auto_flow": null,
            "grid_auto_rows": null,
            "grid_column": null,
            "grid_gap": null,
            "grid_row": null,
            "grid_template_areas": null,
            "grid_template_columns": null,
            "grid_template_rows": null,
            "height": null,
            "justify_content": null,
            "justify_items": null,
            "left": null,
            "margin": null,
            "max_height": null,
            "max_width": null,
            "min_height": null,
            "min_width": null,
            "object_fit": null,
            "object_position": null,
            "order": null,
            "overflow": null,
            "overflow_x": null,
            "overflow_y": null,
            "padding": null,
            "right": null,
            "top": null,
            "visibility": null,
            "width": null
          }
        },
        "dfea83fdc01745dcac7195afc4ed9665": {
          "model_module": "@jupyter-widgets/controls",
          "model_name": "DescriptionStyleModel",
          "model_module_version": "1.5.0",
          "state": {
            "_model_module": "@jupyter-widgets/controls",
            "_model_module_version": "1.5.0",
            "_model_name": "DescriptionStyleModel",
            "_view_count": null,
            "_view_module": "@jupyter-widgets/base",
            "_view_module_version": "1.2.0",
            "_view_name": "StyleView",
            "description_width": ""
          }
        },
        "dc600478a9b74d8284b31158f31dd881": {
          "model_module": "@jupyter-widgets/base",
          "model_name": "LayoutModel",
          "model_module_version": "1.2.0",
          "state": {
            "_model_module": "@jupyter-widgets/base",
            "_model_module_version": "1.2.0",
            "_model_name": "LayoutModel",
            "_view_count": null,
            "_view_module": "@jupyter-widgets/base",
            "_view_module_version": "1.2.0",
            "_view_name": "LayoutView",
            "align_content": null,
            "align_items": null,
            "align_self": null,
            "border": null,
            "bottom": null,
            "display": null,
            "flex": null,
            "flex_flow": null,
            "grid_area": null,
            "grid_auto_columns": null,
            "grid_auto_flow": null,
            "grid_auto_rows": null,
            "grid_column": null,
            "grid_gap": null,
            "grid_row": null,
            "grid_template_areas": null,
            "grid_template_columns": null,
            "grid_template_rows": null,
            "height": null,
            "justify_content": null,
            "justify_items": null,
            "left": null,
            "margin": null,
            "max_height": null,
            "max_width": null,
            "min_height": null,
            "min_width": null,
            "object_fit": null,
            "object_position": null,
            "order": null,
            "overflow": null,
            "overflow_x": null,
            "overflow_y": null,
            "padding": null,
            "right": null,
            "top": null,
            "visibility": null,
            "width": null
          }
        },
        "e313263a967e488b931abe4c443aa459": {
          "model_module": "@jupyter-widgets/controls",
          "model_name": "ProgressStyleModel",
          "model_module_version": "1.5.0",
          "state": {
            "_model_module": "@jupyter-widgets/controls",
            "_model_module_version": "1.5.0",
            "_model_name": "ProgressStyleModel",
            "_view_count": null,
            "_view_module": "@jupyter-widgets/base",
            "_view_module_version": "1.2.0",
            "_view_name": "StyleView",
            "bar_color": null,
            "description_width": ""
          }
        },
        "cafe96b5c895475b8cab9b7f674a33ee": {
          "model_module": "@jupyter-widgets/base",
          "model_name": "LayoutModel",
          "model_module_version": "1.2.0",
          "state": {
            "_model_module": "@jupyter-widgets/base",
            "_model_module_version": "1.2.0",
            "_model_name": "LayoutModel",
            "_view_count": null,
            "_view_module": "@jupyter-widgets/base",
            "_view_module_version": "1.2.0",
            "_view_name": "LayoutView",
            "align_content": null,
            "align_items": null,
            "align_self": null,
            "border": null,
            "bottom": null,
            "display": null,
            "flex": null,
            "flex_flow": null,
            "grid_area": null,
            "grid_auto_columns": null,
            "grid_auto_flow": null,
            "grid_auto_rows": null,
            "grid_column": null,
            "grid_gap": null,
            "grid_row": null,
            "grid_template_areas": null,
            "grid_template_columns": null,
            "grid_template_rows": null,
            "height": null,
            "justify_content": null,
            "justify_items": null,
            "left": null,
            "margin": null,
            "max_height": null,
            "max_width": null,
            "min_height": null,
            "min_width": null,
            "object_fit": null,
            "object_position": null,
            "order": null,
            "overflow": null,
            "overflow_x": null,
            "overflow_y": null,
            "padding": null,
            "right": null,
            "top": null,
            "visibility": null,
            "width": null
          }
        },
        "2ed58cf95a1f49c2babfd66f0ac54597": {
          "model_module": "@jupyter-widgets/controls",
          "model_name": "DescriptionStyleModel",
          "model_module_version": "1.5.0",
          "state": {
            "_model_module": "@jupyter-widgets/controls",
            "_model_module_version": "1.5.0",
            "_model_name": "DescriptionStyleModel",
            "_view_count": null,
            "_view_module": "@jupyter-widgets/base",
            "_view_module_version": "1.2.0",
            "_view_name": "StyleView",
            "description_width": ""
          }
        },
        "001066d105584d55b895c3983c1caa96": {
          "model_module": "@jupyter-widgets/controls",
          "model_name": "HBoxModel",
          "model_module_version": "1.5.0",
          "state": {
            "_dom_classes": [],
            "_model_module": "@jupyter-widgets/controls",
            "_model_module_version": "1.5.0",
            "_model_name": "HBoxModel",
            "_view_count": null,
            "_view_module": "@jupyter-widgets/controls",
            "_view_module_version": "1.5.0",
            "_view_name": "HBoxView",
            "box_style": "",
            "children": [
              "IPY_MODEL_c9917c4d0ac044a0b5915cf121e5552f",
              "IPY_MODEL_a463074562ba48e2b2f646acebeada48",
              "IPY_MODEL_36f48ee088524c868709145c1f3966aa"
            ],
            "layout": "IPY_MODEL_4db61285a0de48bbb8a571c4de5af53d"
          }
        },
        "c9917c4d0ac044a0b5915cf121e5552f": {
          "model_module": "@jupyter-widgets/controls",
          "model_name": "HTMLModel",
          "model_module_version": "1.5.0",
          "state": {
            "_dom_classes": [],
            "_model_module": "@jupyter-widgets/controls",
            "_model_module_version": "1.5.0",
            "_model_name": "HTMLModel",
            "_view_count": null,
            "_view_module": "@jupyter-widgets/controls",
            "_view_module_version": "1.5.0",
            "_view_name": "HTMLView",
            "description": "",
            "description_tooltip": null,
            "layout": "IPY_MODEL_ea12cacb156c4ccb90b74b37a1fbe069",
            "placeholder": "​",
            "style": "IPY_MODEL_fb2724876f814cb2a3ecf0d13eb13657",
            "value": "100%"
          }
        },
        "a463074562ba48e2b2f646acebeada48": {
          "model_module": "@jupyter-widgets/controls",
          "model_name": "FloatProgressModel",
          "model_module_version": "1.5.0",
          "state": {
            "_dom_classes": [],
            "_model_module": "@jupyter-widgets/controls",
            "_model_module_version": "1.5.0",
            "_model_name": "FloatProgressModel",
            "_view_count": null,
            "_view_module": "@jupyter-widgets/controls",
            "_view_module_version": "1.5.0",
            "_view_name": "ProgressView",
            "bar_style": "success",
            "description": "",
            "description_tooltip": null,
            "layout": "IPY_MODEL_8c0fa489ab204e9abcfa730116f14d65",
            "max": 30,
            "min": 0,
            "orientation": "horizontal",
            "style": "IPY_MODEL_7d10da6f84d646798098d56cefa2b1b4",
            "value": 30
          }
        },
        "36f48ee088524c868709145c1f3966aa": {
          "model_module": "@jupyter-widgets/controls",
          "model_name": "HTMLModel",
          "model_module_version": "1.5.0",
          "state": {
            "_dom_classes": [],
            "_model_module": "@jupyter-widgets/controls",
            "_model_module_version": "1.5.0",
            "_model_name": "HTMLModel",
            "_view_count": null,
            "_view_module": "@jupyter-widgets/controls",
            "_view_module_version": "1.5.0",
            "_view_name": "HTMLView",
            "description": "",
            "description_tooltip": null,
            "layout": "IPY_MODEL_25af513d76434a09bfb5a28b9962085f",
            "placeholder": "​",
            "style": "IPY_MODEL_176f7b8fca494e65812155481a46a977",
            "value": " 30/30 [39:33&lt;00:00, 79.14s/it]"
          }
        },
        "4db61285a0de48bbb8a571c4de5af53d": {
          "model_module": "@jupyter-widgets/base",
          "model_name": "LayoutModel",
          "model_module_version": "1.2.0",
          "state": {
            "_model_module": "@jupyter-widgets/base",
            "_model_module_version": "1.2.0",
            "_model_name": "LayoutModel",
            "_view_count": null,
            "_view_module": "@jupyter-widgets/base",
            "_view_module_version": "1.2.0",
            "_view_name": "LayoutView",
            "align_content": null,
            "align_items": null,
            "align_self": null,
            "border": null,
            "bottom": null,
            "display": null,
            "flex": null,
            "flex_flow": null,
            "grid_area": null,
            "grid_auto_columns": null,
            "grid_auto_flow": null,
            "grid_auto_rows": null,
            "grid_column": null,
            "grid_gap": null,
            "grid_row": null,
            "grid_template_areas": null,
            "grid_template_columns": null,
            "grid_template_rows": null,
            "height": null,
            "justify_content": null,
            "justify_items": null,
            "left": null,
            "margin": null,
            "max_height": null,
            "max_width": null,
            "min_height": null,
            "min_width": null,
            "object_fit": null,
            "object_position": null,
            "order": null,
            "overflow": null,
            "overflow_x": null,
            "overflow_y": null,
            "padding": null,
            "right": null,
            "top": null,
            "visibility": null,
            "width": null
          }
        },
        "ea12cacb156c4ccb90b74b37a1fbe069": {
          "model_module": "@jupyter-widgets/base",
          "model_name": "LayoutModel",
          "model_module_version": "1.2.0",
          "state": {
            "_model_module": "@jupyter-widgets/base",
            "_model_module_version": "1.2.0",
            "_model_name": "LayoutModel",
            "_view_count": null,
            "_view_module": "@jupyter-widgets/base",
            "_view_module_version": "1.2.0",
            "_view_name": "LayoutView",
            "align_content": null,
            "align_items": null,
            "align_self": null,
            "border": null,
            "bottom": null,
            "display": null,
            "flex": null,
            "flex_flow": null,
            "grid_area": null,
            "grid_auto_columns": null,
            "grid_auto_flow": null,
            "grid_auto_rows": null,
            "grid_column": null,
            "grid_gap": null,
            "grid_row": null,
            "grid_template_areas": null,
            "grid_template_columns": null,
            "grid_template_rows": null,
            "height": null,
            "justify_content": null,
            "justify_items": null,
            "left": null,
            "margin": null,
            "max_height": null,
            "max_width": null,
            "min_height": null,
            "min_width": null,
            "object_fit": null,
            "object_position": null,
            "order": null,
            "overflow": null,
            "overflow_x": null,
            "overflow_y": null,
            "padding": null,
            "right": null,
            "top": null,
            "visibility": null,
            "width": null
          }
        },
        "fb2724876f814cb2a3ecf0d13eb13657": {
          "model_module": "@jupyter-widgets/controls",
          "model_name": "DescriptionStyleModel",
          "model_module_version": "1.5.0",
          "state": {
            "_model_module": "@jupyter-widgets/controls",
            "_model_module_version": "1.5.0",
            "_model_name": "DescriptionStyleModel",
            "_view_count": null,
            "_view_module": "@jupyter-widgets/base",
            "_view_module_version": "1.2.0",
            "_view_name": "StyleView",
            "description_width": ""
          }
        },
        "8c0fa489ab204e9abcfa730116f14d65": {
          "model_module": "@jupyter-widgets/base",
          "model_name": "LayoutModel",
          "model_module_version": "1.2.0",
          "state": {
            "_model_module": "@jupyter-widgets/base",
            "_model_module_version": "1.2.0",
            "_model_name": "LayoutModel",
            "_view_count": null,
            "_view_module": "@jupyter-widgets/base",
            "_view_module_version": "1.2.0",
            "_view_name": "LayoutView",
            "align_content": null,
            "align_items": null,
            "align_self": null,
            "border": null,
            "bottom": null,
            "display": null,
            "flex": null,
            "flex_flow": null,
            "grid_area": null,
            "grid_auto_columns": null,
            "grid_auto_flow": null,
            "grid_auto_rows": null,
            "grid_column": null,
            "grid_gap": null,
            "grid_row": null,
            "grid_template_areas": null,
            "grid_template_columns": null,
            "grid_template_rows": null,
            "height": null,
            "justify_content": null,
            "justify_items": null,
            "left": null,
            "margin": null,
            "max_height": null,
            "max_width": null,
            "min_height": null,
            "min_width": null,
            "object_fit": null,
            "object_position": null,
            "order": null,
            "overflow": null,
            "overflow_x": null,
            "overflow_y": null,
            "padding": null,
            "right": null,
            "top": null,
            "visibility": null,
            "width": null
          }
        },
        "7d10da6f84d646798098d56cefa2b1b4": {
          "model_module": "@jupyter-widgets/controls",
          "model_name": "ProgressStyleModel",
          "model_module_version": "1.5.0",
          "state": {
            "_model_module": "@jupyter-widgets/controls",
            "_model_module_version": "1.5.0",
            "_model_name": "ProgressStyleModel",
            "_view_count": null,
            "_view_module": "@jupyter-widgets/base",
            "_view_module_version": "1.2.0",
            "_view_name": "StyleView",
            "bar_color": null,
            "description_width": ""
          }
        },
        "25af513d76434a09bfb5a28b9962085f": {
          "model_module": "@jupyter-widgets/base",
          "model_name": "LayoutModel",
          "model_module_version": "1.2.0",
          "state": {
            "_model_module": "@jupyter-widgets/base",
            "_model_module_version": "1.2.0",
            "_model_name": "LayoutModel",
            "_view_count": null,
            "_view_module": "@jupyter-widgets/base",
            "_view_module_version": "1.2.0",
            "_view_name": "LayoutView",
            "align_content": null,
            "align_items": null,
            "align_self": null,
            "border": null,
            "bottom": null,
            "display": null,
            "flex": null,
            "flex_flow": null,
            "grid_area": null,
            "grid_auto_columns": null,
            "grid_auto_flow": null,
            "grid_auto_rows": null,
            "grid_column": null,
            "grid_gap": null,
            "grid_row": null,
            "grid_template_areas": null,
            "grid_template_columns": null,
            "grid_template_rows": null,
            "height": null,
            "justify_content": null,
            "justify_items": null,
            "left": null,
            "margin": null,
            "max_height": null,
            "max_width": null,
            "min_height": null,
            "min_width": null,
            "object_fit": null,
            "object_position": null,
            "order": null,
            "overflow": null,
            "overflow_x": null,
            "overflow_y": null,
            "padding": null,
            "right": null,
            "top": null,
            "visibility": null,
            "width": null
          }
        },
        "176f7b8fca494e65812155481a46a977": {
          "model_module": "@jupyter-widgets/controls",
          "model_name": "DescriptionStyleModel",
          "model_module_version": "1.5.0",
          "state": {
            "_model_module": "@jupyter-widgets/controls",
            "_model_module_version": "1.5.0",
            "_model_name": "DescriptionStyleModel",
            "_view_count": null,
            "_view_module": "@jupyter-widgets/base",
            "_view_module_version": "1.2.0",
            "_view_name": "StyleView",
            "description_width": ""
          }
        }
      }
    }
  },
  "nbformat": 4,
  "nbformat_minor": 0
}